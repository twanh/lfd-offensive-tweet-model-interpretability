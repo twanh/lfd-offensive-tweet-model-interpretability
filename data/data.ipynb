{
 "cells": [
  {
   "cell_type": "code",
   "execution_count": 1,
   "id": "c1e82464",
   "metadata": {},
   "outputs": [],
   "source": [
    "import pandas as pd\n",
    "from collections import Counter"
   ]
  },
  {
   "cell_type": "code",
   "execution_count": 2,
   "id": "51d52ba5",
   "metadata": {},
   "outputs": [
    {
     "name": "stdout",
     "output_type": "stream",
     "text": [
      "<class 'pandas.core.frame.DataFrame'>\n",
      "RangeIndex: 12239 entries, 0 to 12238\n",
      "Data columns (total 2 columns):\n",
      " #   Column                                                                   Non-Null Count  Dtype \n",
      "---  ------                                                                   --------------  ----- \n",
      " 0   @USER She should ask a few native Americans what their take on this is.  12239 non-null  object\n",
      " 1   OFF                                                                      12239 non-null  object\n",
      "dtypes: object(2)\n",
      "memory usage: 191.4+ KB\n",
      "None\n"
     ]
    },
    {
     "data": {
      "application/vnd.microsoft.datawrangler.viewer.v0+json": {
       "columns": [
        {
         "name": "index",
         "rawType": "int64",
         "type": "integer"
        },
        {
         "name": "@USER She should ask a few native Americans what their take on this is.",
         "rawType": "object",
         "type": "string"
        },
        {
         "name": "OFF",
         "rawType": "object",
         "type": "string"
        }
       ],
       "ref": "84c8c4cd-b822-44c8-b857-92b743cf9de8",
       "rows": [
        [
         "0",
         "@USER @USER Go home you’re drunk!!! @USER #MAGA #Trump2020 👊🇺🇸👊 URL",
         "OFF"
        ],
        [
         "1",
         "Amazon is investigating Chinese employees who are selling internal data to third-party sellers looking for an edge in the competitive marketplace. URL #Amazon #MAGA #KAG #CHINA #TCOT",
         "NOT"
        ],
        [
         "2",
         "@USER Someone should'veTaken\" this piece of shit to a volcano. 😂\"",
         "OFF"
        ],
        [
         "3",
         "@USER @USER Obama wanted liberals &amp; illegals to move into red states",
         "NOT"
        ],
        [
         "4",
         "@USER Liberals are all Kookoo !!!",
         "OFF"
        ]
       ],
       "shape": {
        "columns": 2,
        "rows": 5
       }
      },
      "text/html": [
       "<div>\n",
       "<style scoped>\n",
       "    .dataframe tbody tr th:only-of-type {\n",
       "        vertical-align: middle;\n",
       "    }\n",
       "\n",
       "    .dataframe tbody tr th {\n",
       "        vertical-align: top;\n",
       "    }\n",
       "\n",
       "    .dataframe thead th {\n",
       "        text-align: right;\n",
       "    }\n",
       "</style>\n",
       "<table border=\"1\" class=\"dataframe\">\n",
       "  <thead>\n",
       "    <tr style=\"text-align: right;\">\n",
       "      <th></th>\n",
       "      <th>@USER She should ask a few native Americans what their take on this is.</th>\n",
       "      <th>OFF</th>\n",
       "    </tr>\n",
       "  </thead>\n",
       "  <tbody>\n",
       "    <tr>\n",
       "      <th>0</th>\n",
       "      <td>@USER @USER Go home you’re drunk!!! @USER #MAG...</td>\n",
       "      <td>OFF</td>\n",
       "    </tr>\n",
       "    <tr>\n",
       "      <th>1</th>\n",
       "      <td>Amazon is investigating Chinese employees who ...</td>\n",
       "      <td>NOT</td>\n",
       "    </tr>\n",
       "    <tr>\n",
       "      <th>2</th>\n",
       "      <td>@USER Someone should'veTaken\" this piece of sh...</td>\n",
       "      <td>OFF</td>\n",
       "    </tr>\n",
       "    <tr>\n",
       "      <th>3</th>\n",
       "      <td>@USER @USER Obama wanted liberals &amp;amp; illega...</td>\n",
       "      <td>NOT</td>\n",
       "    </tr>\n",
       "    <tr>\n",
       "      <th>4</th>\n",
       "      <td>@USER Liberals are all Kookoo !!!</td>\n",
       "      <td>OFF</td>\n",
       "    </tr>\n",
       "  </tbody>\n",
       "</table>\n",
       "</div>"
      ],
      "text/plain": [
       "  @USER She should ask a few native Americans what their take on this is.  OFF\n",
       "0  @USER @USER Go home you’re drunk!!! @USER #MAG...                       OFF\n",
       "1  Amazon is investigating Chinese employees who ...                       NOT\n",
       "2  @USER Someone should'veTaken\" this piece of sh...                       OFF\n",
       "3  @USER @USER Obama wanted liberals &amp; illega...                       NOT\n",
       "4                  @USER Liberals are all Kookoo !!!                       OFF"
      ]
     },
     "execution_count": 2,
     "metadata": {},
     "output_type": "execute_result"
    }
   ],
   "source": [
    "df = pd.read_csv('train.tsv', sep='\\t')\n",
    "\n",
    "print(df.info())\n",
    "df.head()\n"
   ]
  },
  {
   "cell_type": "code",
   "execution_count": 3,
   "id": "313acebc",
   "metadata": {},
   "outputs": [
    {
     "data": {
      "application/vnd.microsoft.datawrangler.viewer.v0+json": {
       "columns": [
        {
         "name": "index",
         "rawType": "int64",
         "type": "integer"
        },
        {
         "name": "tweet",
         "rawType": "object",
         "type": "string"
        },
        {
         "name": "label",
         "rawType": "object",
         "type": "string"
        }
       ],
       "ref": "f7a79415-2941-4d01-9727-24544f8079a1",
       "rows": [
        [
         "0",
         "@USER @USER Go home you’re drunk!!! @USER #MAGA #Trump2020 👊🇺🇸👊 URL",
         "OFF"
        ],
        [
         "1",
         "Amazon is investigating Chinese employees who are selling internal data to third-party sellers looking for an edge in the competitive marketplace. URL #Amazon #MAGA #KAG #CHINA #TCOT",
         "NOT"
        ],
        [
         "2",
         "@USER Someone should'veTaken\" this piece of shit to a volcano. 😂\"",
         "OFF"
        ],
        [
         "3",
         "@USER @USER Obama wanted liberals &amp; illegals to move into red states",
         "NOT"
        ],
        [
         "4",
         "@USER Liberals are all Kookoo !!!",
         "OFF"
        ]
       ],
       "shape": {
        "columns": 2,
        "rows": 5
       }
      },
      "text/html": [
       "<div>\n",
       "<style scoped>\n",
       "    .dataframe tbody tr th:only-of-type {\n",
       "        vertical-align: middle;\n",
       "    }\n",
       "\n",
       "    .dataframe tbody tr th {\n",
       "        vertical-align: top;\n",
       "    }\n",
       "\n",
       "    .dataframe thead th {\n",
       "        text-align: right;\n",
       "    }\n",
       "</style>\n",
       "<table border=\"1\" class=\"dataframe\">\n",
       "  <thead>\n",
       "    <tr style=\"text-align: right;\">\n",
       "      <th></th>\n",
       "      <th>tweet</th>\n",
       "      <th>label</th>\n",
       "    </tr>\n",
       "  </thead>\n",
       "  <tbody>\n",
       "    <tr>\n",
       "      <th>0</th>\n",
       "      <td>@USER @USER Go home you’re drunk!!! @USER #MAG...</td>\n",
       "      <td>OFF</td>\n",
       "    </tr>\n",
       "    <tr>\n",
       "      <th>1</th>\n",
       "      <td>Amazon is investigating Chinese employees who ...</td>\n",
       "      <td>NOT</td>\n",
       "    </tr>\n",
       "    <tr>\n",
       "      <th>2</th>\n",
       "      <td>@USER Someone should'veTaken\" this piece of sh...</td>\n",
       "      <td>OFF</td>\n",
       "    </tr>\n",
       "    <tr>\n",
       "      <th>3</th>\n",
       "      <td>@USER @USER Obama wanted liberals &amp;amp; illega...</td>\n",
       "      <td>NOT</td>\n",
       "    </tr>\n",
       "    <tr>\n",
       "      <th>4</th>\n",
       "      <td>@USER Liberals are all Kookoo !!!</td>\n",
       "      <td>OFF</td>\n",
       "    </tr>\n",
       "  </tbody>\n",
       "</table>\n",
       "</div>"
      ],
      "text/plain": [
       "                                               tweet label\n",
       "0  @USER @USER Go home you’re drunk!!! @USER #MAG...   OFF\n",
       "1  Amazon is investigating Chinese employees who ...   NOT\n",
       "2  @USER Someone should'veTaken\" this piece of sh...   OFF\n",
       "3  @USER @USER Obama wanted liberals &amp; illega...   NOT\n",
       "4                  @USER Liberals are all Kookoo !!!   OFF"
      ]
     },
     "execution_count": 3,
     "metadata": {},
     "output_type": "execute_result"
    }
   ],
   "source": [
    "# Add column names (tweet, label)\n",
    "df.columns = ['tweet', 'label']\n",
    "df.head()"
   ]
  },
  {
   "cell_type": "code",
   "execution_count": 4,
   "id": "bf74e578",
   "metadata": {},
   "outputs": [
    {
     "name": "stdout",
     "output_type": "stream",
     "text": [
      "Label distribution:\n"
     ]
    },
    {
     "data": {
      "application/vnd.microsoft.datawrangler.viewer.v0+json": {
       "columns": [
        {
         "name": "label",
         "rawType": "object",
         "type": "string"
        },
        {
         "name": "count",
         "rawType": "int64",
         "type": "integer"
        }
       ],
       "ref": "dbbc0ea8-aa37-4187-9d40-8eebc77e4b85",
       "rows": [
        [
         "NOT",
         "8192"
        ],
        [
         "OFF",
         "4047"
        ]
       ],
       "shape": {
        "columns": 1,
        "rows": 2
       }
      },
      "text/plain": [
       "label\n",
       "NOT    8192\n",
       "OFF    4047\n",
       "Name: count, dtype: int64"
      ]
     },
     "execution_count": 4,
     "metadata": {},
     "output_type": "execute_result"
    }
   ],
   "source": [
    "# Show label distribution using pandas\n",
    "\n",
    "label_counts = df['label'].value_counts()\n",
    "print(\"Label distribution:\")\n",
    "label_counts"
   ]
  },
  {
   "cell_type": "code",
   "execution_count": 5,
   "id": "538389d2",
   "metadata": {},
   "outputs": [
    {
     "name": "stdout",
     "output_type": "stream",
     "text": [
      "Most common words in OFF tweets: [('@USER', 8226), ('the', 2634), ('to', 2039), ('is', 2027), ('a', 1938), ('and', 1537), ('of', 1223), ('you', 1130), ('are', 1116), ('that', 816)]\n",
      "Most common words in NOT tweets: [('@USER', 22540), ('the', 4742), ('to', 3646), ('is', 3541), ('a', 2787), ('and', 2666), ('you', 2221), ('of', 2210), ('are', 1973), ('I', 1774)]\n"
     ]
    }
   ],
   "source": [
    "# Count the most common words for label OFF\n",
    "\n",
    "off_tweets = df[df['label'] == 'OFF']['tweet'].tolist()\n",
    "all_off_words = ' '.join(off_tweets).split()\n",
    "off_word_counts = Counter(all_off_words)\n",
    "most_common_off = off_word_counts.most_common(10)\n",
    "print(\"Most common words in OFF tweets:\", most_common_off)\n",
    "\n",
    "# Count the most common words for label NOT\n",
    "\n",
    "not_tweets = df[df['label'] == 'NOT']['tweet'].tolist()\n",
    "all_not_words = ' '.join(not_tweets).split()\n",
    "not_word_counts = Counter(all_not_words)\n",
    "most_common_not = not_word_counts.most_common(10)\n",
    "print(\"Most common words in NOT tweets:\", most_common_not)"
   ]
  },
  {
   "cell_type": "code",
   "execution_count": 6,
   "id": "6a7be089",
   "metadata": {},
   "outputs": [
    {
     "name": "stderr",
     "output_type": "stream",
     "text": [
      "[nltk_data] Downloading package stopwords to /home/twanh/nltk_data...\n",
      "[nltk_data]   Package stopwords is already up-to-date!\n"
     ]
    }
   ],
   "source": [
    "# Get stopwords from nltk\n",
    "import nltk\n",
    "nltk.download('stopwords')\n",
    "from nltk.corpus import stopwords\n",
    "stop_words = set(stopwords.words('english'))\n"
   ]
  },
  {
   "cell_type": "code",
   "execution_count": 7,
   "id": "4ea06864",
   "metadata": {},
   "outputs": [],
   "source": [
    "words_to_remove = stop_words | set([\"@USER\", \"URL\"])"
   ]
  },
  {
   "cell_type": "code",
   "execution_count": 8,
   "id": "90362974",
   "metadata": {},
   "outputs": [
    {
     "name": "stdout",
     "output_type": "stream",
     "text": [
      "Most common words in OFF tweets (filtered): [('I', 814), ('like', 403), ('gun', 390), ('You', 356), ('He', 351), ('control', 283), ('The', 283), ('people', 269), ('She', 266), ('&amp;', 248)]\n"
     ]
    }
   ],
   "source": [
    "# Ingore words_to_remove from words and then recount most common words\n",
    "def filter_words(word_counts, words_to_remove):\n",
    "    for word in words_to_remove:\n",
    "        if word in word_counts:\n",
    "            del word_counts[word]\n",
    "    return word_counts\n",
    "filtered_off_word_counts = filter_words(off_word_counts, words_to_remove)\n",
    "most_common_off_filtered = filtered_off_word_counts.most_common(10)\n",
    "print(\"Most common words in OFF tweets (filtered):\", most_common_off_filtered)"
   ]
  },
  {
   "cell_type": "code",
   "execution_count": 9,
   "id": "54bd38fe",
   "metadata": {},
   "outputs": [
    {
     "name": "stdout",
     "output_type": "stream",
     "text": [
      "Most common words in NOT tweets (filtered): [('I', 1774), ('You', 690), ('gun', 647), ('He', 567), ('like', 527), ('She', 504), ('The', 480), ('control', 459), ('#MAGA', 424), ('liberals', 402)]\n"
     ]
    }
   ],
   "source": [
    "# Ignore words_to_remove from words and then recount most common words for NOT\n",
    "filtered_not_word_counts = filter_words(not_word_counts, words_to_remove)\n",
    "most_common_not_filtered = filtered_not_word_counts.most_common(10)\n",
    "print(\"Most common words in NOT tweets (filtered):\", most_common_not_filtered)\n"
   ]
  },
  {
   "cell_type": "code",
   "execution_count": 10,
   "id": "d9136eb1",
   "metadata": {},
   "outputs": [
    {
     "data": {
      "image/png": "[encoded data removed]",
      "text/plain": [
       "<Figure size 640x480 with 1 Axes>"
      ]
     },
     "metadata": {},
     "output_type": "display_data"
    }
   ],
   "source": [
    "# Create a barchart showing the most common 25 words for both labels (in one chart) for \n",
    "# each word also show the count for both labels (use different colors)\n",
    "# if a word is not present in one label, get the count from off_words_count or not_word_counts\n",
    "import matplotlib.pyplot as plt\n",
    "\n",
    "def plot_common_words(off_word_counts, not_word_counts, num_words=25):\n",
    "    all_words = set(off_word_counts.keys()).union(set(not_word_counts.keys()))\n",
    "    common_words = sorted(all_words, key=lambda w: off_word_counts[w] + not_word_counts[w], reverse=True)[:num_words]\n",
    "\n",
    "    off_counts = [off_word_counts.get(word, 0) for word in common_words]\n",
    "    not_counts = [not_word_counts.get(word, 0) for word in common_words]\n",
    "\n",
    "    x = range(len(common_words))\n",
    "    plt.bar(x, off_counts, width=0.4, label='OFF', color='r', align='center')\n",
    "    plt.bar([i + 0.4 for i in x], not_counts, width=0.4, label='NOT', color='b', align='center')\n",
    "\n",
    "    plt.xlabel('Words')\n",
    "    plt.ylabel('Counts')\n",
    "    plt.title('Most Common Words in OFF and NOT Tweets')\n",
    "    plt.xticks([i + 0.2 for i in x], common_words, rotation=90)\n",
    "    plt.legend()\n",
    "    plt.tight_layout()\n",
    "    plt.show()\n",
    "\n",
    "plot_common_words(off_word_counts, not_word_counts, num_words=25)\n"
   ]
  },
  {
   "cell_type": "code",
   "execution_count": 11,
   "id": "a99c0ef5",
   "metadata": {},
   "outputs": [
    {
     "data": {
      "image/png": "[encoded data removed]",
      "text/plain": [
       "<Figure size 640x480 with 1 Axes>"
      ]
     },
     "metadata": {},
     "output_type": "display_data"
    }
   ],
   "source": [
    "# Now we correct for the label imbalance by normalizing the counts by the total number of tweets in each label \n",
    "# using a new function plot_normalized_common_words\n",
    "def plot_normalized_common_words(off_word_counts, not_word_counts, num_words=25):\n",
    "    total_off = sum(off_word_counts.values())\n",
    "    total_not = sum(not_word_counts.values())\n",
    "\n",
    "    all_words = set(off_word_counts.keys()).union(set(not_word_counts.keys()))\n",
    "    common_words = sorted(all_words, key=lambda w: (off_word_counts[w] / total_off) + (not_word_counts[w] / total_not), reverse=True)[:num_words]\n",
    "\n",
    "    off_counts = [off_word_counts.get(word, 0) / total_off for word in common_words]\n",
    "    not_counts = [not_word_counts.get(word, 0) / total_not for word in common_words]\n",
    "\n",
    "    x = range(len(common_words))\n",
    "    plt.bar(x, off_counts, width=0.4, label='OFF', color='r', align='center')\n",
    "    plt.bar([i + 0.4 for i in x], not_counts, width=0.4, label='NOT', color='b', align='center')\n",
    "\n",
    "    plt.xlabel('Words')\n",
    "    plt.ylabel('Normalized Counts')\n",
    "    plt.title('Normalized Most Common Words in OFF and NOT Tweets')\n",
    "    plt.xticks([i + 0.2 for i in x], common_words, rotation=90)\n",
    "    plt.legend()\n",
    "    plt.tight_layout()\n",
    "    plt.show()\n",
    "\n",
    "plot_normalized_common_words(off_word_counts, not_word_counts, num_words=25)\n"
   ]
  },
  {
   "cell_type": "code",
   "execution_count": 12,
   "id": "7688d2df",
   "metadata": {},
   "outputs": [
    {
     "name": "stdout",
     "output_type": "stream",
     "text": [
      "Most common bigrams in OFF tweets: [('user user', np.int64(4249)), ('he is', np.int64(501)), ('you are', np.int64(403)), ('she is', np.int64(393)), ('gun control', np.int64(391)), ('in the', np.int64(206)), ('user you', np.int64(200)), ('of the', np.int64(189)), ('user he', np.int64(182)), ('this is', np.int64(145))]\n",
      "Most common bigrams in NOT tweets: [('user user', np.int64(14516)), ('you are', np.int64(1107)), ('he is', np.int64(976)), ('she is', np.int64(970)), ('gun control', np.int64(677)), ('user you', np.int64(448)), ('of the', np.int64(423)), ('user he', np.int64(376)), ('in the', np.int64(317)), ('user she', np.int64(279))]\n"
     ]
    }
   ],
   "source": [
    "# DO the same for ngrams (bigrams and trigrams)\n",
    "from sklearn.feature_extraction.text import CountVectorizer\n",
    "\n",
    "def get_ngrams(texts, n):\n",
    "    vectorizer = CountVectorizer(ngram_range=(n, n))\n",
    "    X = vectorizer.fit_transform(texts)\n",
    "    return vectorizer.get_feature_names_out(), X.toarray()\n",
    "off_texts = df[df['label'] == 'OFF']['tweet'].tolist()\n",
    "not_texts = df[df['label'] == 'NOT']['tweet'].tolist()\n",
    "\n",
    "bigram_features_off, bigram_counts_off = get_ngrams(off_texts, 2)\n",
    "bigram_features_not, bigram_counts_not = get_ngrams(not_texts, 2)\n",
    "bigram_totals_off = bigram_counts_off.sum(axis=0)\n",
    "bigram_totals_not = bigram_counts_not.sum(axis=0)\n",
    "bigram_word_counts_off = Counter(dict(zip(bigram_features_off, bigram_totals_off)))\n",
    "bigram_word_counts_not = Counter(dict(zip(bigram_features_not, bigram_totals_not)))\n",
    "most_common_bigrams_off = bigram_word_counts_off.most_common(10)\n",
    "most_common_bigrams_not = bigram_word_counts_not.most_common(10)\n",
    "print(\"Most common bigrams in OFF tweets:\", most_common_bigrams_off)\n",
    "print(\"Most common bigrams in NOT tweets:\", most_common_bigrams_not)"
   ]
  }
 ],
 "metadata": {
  "kernelspec": {
   "display_name": "venv",
   "language": "python",
   "name": "python3"
  },
  "language_info": {
   "codemirror_mode": {
    "name": "ipython",
    "version": 3
   },
   "file_extension": ".py",
   "mimetype": "text/x-python",
   "name": "python",
   "nbconvert_exporter": "python",
   "pygments_lexer": "ipython3",
   "version": "3.10.12"
  }
 },
 "nbformat": 4,
 "nbformat_minor": 5
}
